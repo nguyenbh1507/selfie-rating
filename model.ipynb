{
 "cells": [
  {
   "cell_type": "code",
   "execution_count": 1,
   "metadata": {},
   "outputs": [],
   "source": [
    "import numpy as np\n",
    "import os\n",
    "import cv2"
   ]
  },
  {
   "cell_type": "code",
   "execution_count": 2,
   "metadata": {},
   "outputs": [],
   "source": [
    "import matplotlib.pyplot as plt"
   ]
  },
  {
   "cell_type": "code",
   "execution_count": 3,
   "metadata": {},
   "outputs": [],
   "source": [
    "train = np.zeros((1,64,64,3))"
   ]
  },
  {
   "cell_type": "code",
   "execution_count": 11,
   "metadata": {},
   "outputs": [],
   "source": [
    "img_folder = './SCUT-FBP5500_v2/Images/'\n",
    "train_img_list = []\n",
    "y_train = []"
   ]
  },
  {
   "cell_type": "code",
   "execution_count": 5,
   "metadata": {},
   "outputs": [],
   "source": [
    "files = './SCUT-FBP5500_v2/train_test_files/5_folders_cross_validations_files/cross_validation_1/test_1.txt'"
   ]
  },
  {
   "cell_type": "code",
   "execution_count": 12,
   "metadata": {},
   "outputs": [],
   "source": [
    "with open(files, 'rt') as imgnames:\n",
    "    for line in imgnames:\n",
    "        img, score = line.strip().split(' ')\n",
    "        train_img_list.append(img)\n",
    "        y_train.append(float(score))"
   ]
  },
  {
   "cell_type": "code",
   "execution_count": 7,
   "metadata": {
    "scrolled": true
   },
   "outputs": [],
   "source": [
    "for imgname in train_img_list[:1000]:\n",
    "    img = cv2.imread(os.path.join(img_folder, imgname))\n",
    "    img = cv2.resize(img, (224,224))\n",
    "    img = np.array(img).reshape(1,224,244,3)/255.0\n",
    "    train = np.append(train, img, axis=0)"
   ]
  },
  {
   "cell_type": "code",
   "execution_count": 8,
   "metadata": {},
   "outputs": [],
   "source": [
    "train = train[1:]"
   ]
  },
  {
   "cell_type": "code",
   "execution_count": 13,
   "metadata": {},
   "outputs": [],
   "source": [
    "y_train = np.array(y_train[:1000]).reshape(-1,1)"
   ]
  },
  {
   "cell_type": "code",
   "execution_count": 14,
   "metadata": {},
   "outputs": [
    {
     "data": {
      "text/plain": [
       "True"
      ]
     },
     "execution_count": 14,
     "metadata": {},
     "output_type": "execute_result"
    }
   ],
   "source": [
    "train.shape[0]==y_train.shape[0]"
   ]
  },
  {
   "cell_type": "code",
   "execution_count": 15,
   "metadata": {},
   "outputs": [
    {
     "name": "stderr",
     "output_type": "stream",
     "text": [
      "Using TensorFlow backend.\n"
     ]
    }
   ],
   "source": [
    "#Import library\n",
    "import os\n",
    "os.environ['KERAS_BACKEND'] = 'tensorflow'\n",
    "from keras.datasets import mnist\n",
    "from keras.preprocessing.image import ImageDataGenerator\n",
    "from matplotlib import pyplot\n",
    "from keras import backend as K\n",
    "from keras.preprocessing.image import load_img, img_to_array\n",
    "import matplotlib.pyplot as plt\n",
    "%matplotlib inline\n",
    "import numpy as np"
   ]
  },
  {
   "cell_type": "code",
   "execution_count": 46,
   "metadata": {},
   "outputs": [],
   "source": [
    "# import library\n",
    "from keras.models import Sequential,Model\n",
    "from keras.layers import Dense\n",
    "from keras.layers import Dropout\n",
    "from keras.layers import Flatten, Activation\n",
    "from keras.layers.convolutional import Conv2D\n",
    "from keras.layers.convolutional import MaxPooling2D\n",
    "from keras.utils import np_utils\n",
    "from IPython.display import Image\n",
    "from keras.optimizers import Adam"
   ]
  },
  {
   "cell_type": "code",
   "execution_count": 48,
   "metadata": {},
   "outputs": [],
   "source": [
    "# # AlexNet\n",
    "# #Instantiate an empty model\n",
    "# model = Sequential()\n",
    "\n",
    "# # 1st Convolutional Layer\n",
    "# model.add(Conv2D(filters=96, input_shape=(224,224,3), kernel_size=(11,11), strides=(4,4), padding='valid'))\n",
    "# model.add(Activation('relu'))\n",
    "# # Max Pooling\n",
    "# model.add(MaxPooling2D(pool_size=(2,2), strides=(2,2), padding='valid'))\n",
    "\n",
    "# # 2nd Convolutional Layer\n",
    "# model.add(Conv2D(filters=256, kernel_size=(11,11), strides=(1,1), padding='valid'))\n",
    "# model.add(Activation('relu'))\n",
    "# # Max Pooling\n",
    "# model.add(MaxPooling2D(pool_size=(2,2), strides=(2,2), padding='valid'))\n",
    "\n",
    "# # 3rd Convolutional Layer\n",
    "# model.add(Conv2D(filters=384, kernel_size=(3,3), strides=(1,1), padding='valid'))\n",
    "# model.add(Activation('relu'))\n",
    "\n",
    "# # 4th Convolutional Layer\n",
    "# model.add(Conv2D(filters=384, kernel_size=(3,3), strides=(1,1), padding='valid'))\n",
    "# model.add(Activation('relu'))\n",
    "\n",
    "# # 5th Convolutional Layer\n",
    "# model.add(Conv2D(filters=256, kernel_size=(3,3), strides=(1,1), padding='valid'))\n",
    "# model.add(Activation('relu'))\n",
    "# # Max Pooling\n",
    "# model.add(MaxPooling2D(pool_size=(2,2), strides=(2,2), padding='valid'))\n",
    "\n",
    "# # Passing it to a Fully Connected layer\n",
    "# model.add(Flatten())\n",
    "# # 1st Fully Connected Layer\n",
    "# model.add(Dense(4096, input_shape=(224*224*3,)))\n",
    "# model.add(Activation('relu'))\n",
    "# # Add Dropout to prevent overfitting\n",
    "# model.add(Dropout(0.4))\n",
    "\n",
    "# # 2nd Fully Connected Layer\n",
    "# model.add(Dense(4096))\n",
    "# model.add(Activation('relu'))\n",
    "# # Add Dropout\n",
    "# model.add(Dropout(0.4))\n",
    "\n",
    "# # 3rd Fully Connected Layer\n",
    "# model.add(Dense(1000))\n",
    "# model.add(Activation('relu'))\n",
    "# # Add Dropout\n",
    "# model.add(Dropout(0.4))\n",
    "\n",
    "# # Output Layer\n",
    "# model.add(Dense(17))\n",
    "# model.add(Activation('softmax'))\n",
    "\n",
    "# model.summary()"
   ]
  },
  {
   "cell_type": "code",
   "execution_count": 41,
   "metadata": {},
   "outputs": [],
   "source": [
    "# Create model \n",
    "model = Sequential()\n",
    "# Add convolution 2D shape (5x5x32),padding same, stride=1)\n",
    "model.add(\n",
    "    Conv2D(filters=4, kernel_size=(7,7), padding='same', strides=(2, 2), \n",
    "           activation='relu', input_shape=(64,64,3), name='CONV_1'    \n",
    "    )\n",
    ")\n",
    "# Add Max_pooling 2D kernel size(2,2),no padding, stride=2\n",
    "model.add(MaxPooling2D( pool_size=(2,2), strides=(2,2), padding='valid', name=\"MAX_POOL_1\"))\n",
    "\n",
    "# Add convolution 2D shape (3x3x64),padding same, stride=1 \n",
    "model.add(\n",
    "    Conv2D(filters=8, kernel_size=(5,5), padding='same', strides=(2, 2), activation='relu', name='CONV_2')\n",
    ")\n",
    "\n",
    "# Add Max_pooling 2D kernel size(2,2)\n",
    "model.add( MaxPooling2D(pool_size=(2,2), strides=(2,2), padding='valid', name=\"MAX_POOL_2\"))\n",
    "\n",
    "# ADD flatten\n",
    "model.add(Flatten(name=\"FLATTEN\"))\n",
    "\n",
    "# ADD dense layer 512 hidden unit\n",
    "model.add(Dense(units=32, activation='relu', name=\"Dense_1\"))\n",
    "\n",
    "# ADD dense layer\n",
    "model.add(Dense( units=1, name=\"Dense_2\", activation='relu'))"
   ]
  },
  {
   "cell_type": "code",
   "execution_count": 42,
   "metadata": {},
   "outputs": [
    {
     "name": "stdout",
     "output_type": "stream",
     "text": [
      "_________________________________________________________________\n",
      "Layer (type)                 Output Shape              Param #   \n",
      "=================================================================\n",
      "CONV_1 (Conv2D)              (None, 32, 32, 4)         592       \n",
      "_________________________________________________________________\n",
      "MAX_POOL_1 (MaxPooling2D)    (None, 16, 16, 4)         0         \n",
      "_________________________________________________________________\n",
      "CONV_2 (Conv2D)              (None, 8, 8, 8)           808       \n",
      "_________________________________________________________________\n",
      "MAX_POOL_2 (MaxPooling2D)    (None, 4, 4, 8)           0         \n",
      "_________________________________________________________________\n",
      "FLATTEN (Flatten)            (None, 128)               0         \n",
      "_________________________________________________________________\n",
      "Dense_1 (Dense)              (None, 32)                4128      \n",
      "_________________________________________________________________\n",
      "Dense_2 (Dense)              (None, 1)                 33        \n",
      "=================================================================\n",
      "Total params: 5,561\n",
      "Trainable params: 5,561\n",
      "Non-trainable params: 0\n",
      "_________________________________________________________________\n"
     ]
    }
   ],
   "source": [
    "optimizer = Adam(lr=1e-4)\n",
    "\n",
    "# Compile model\n",
    "model.compile(loss='mean_squared_error', optimizer=optimizer)\n",
    "\n",
    "# Summary model\n",
    "model.summary()"
   ]
  },
  {
   "cell_type": "code",
   "execution_count": 43,
   "metadata": {
    "scrolled": true
   },
   "outputs": [
    {
     "name": "stdout",
     "output_type": "stream",
     "text": [
      "Epoch 1/20\n",
      "1000/1000 [==============================] - 4s 4ms/step - loss: 9.3433\n",
      "Epoch 2/20\n",
      "1000/1000 [==============================] - 3s 3ms/step - loss: 9.3433\n",
      "Epoch 3/20\n",
      "1000/1000 [==============================] - 2s 2ms/step - loss: 9.3433\n",
      "Epoch 4/20\n",
      "1000/1000 [==============================] - 2s 2ms/step - loss: 9.3433\n",
      "Epoch 5/20\n",
      "1000/1000 [==============================] - 2s 2ms/step - loss: 9.3433\n",
      "Epoch 6/20\n",
      "1000/1000 [==============================] - 3s 3ms/step - loss: 9.3433\n",
      "Epoch 7/20\n",
      "1000/1000 [==============================] - 2s 2ms/step - loss: 9.3433\n",
      "Epoch 8/20\n",
      "1000/1000 [==============================] - 3s 3ms/step - loss: 9.3433\n",
      "Epoch 9/20\n",
      "1000/1000 [==============================] - 2s 2ms/step - loss: 9.3433\n",
      "Epoch 10/20\n",
      "1000/1000 [==============================] - 3s 3ms/step - loss: 9.3433\n",
      "Epoch 11/20\n",
      "1000/1000 [==============================] - 2s 2ms/step - loss: 9.3433\n",
      "Epoch 12/20\n",
      "1000/1000 [==============================] - 2s 2ms/step - loss: 9.3433\n",
      "Epoch 13/20\n",
      "1000/1000 [==============================] - 3s 3ms/step - loss: 9.3433\n",
      "Epoch 14/20\n",
      "1000/1000 [==============================] - 2s 2ms/step - loss: 9.3433\n",
      "Epoch 15/20\n",
      "1000/1000 [==============================] - 3s 3ms/step - loss: 9.3433\n",
      "Epoch 16/20\n",
      "1000/1000 [==============================] - 3s 3ms/step - loss: 9.3433\n",
      "Epoch 17/20\n",
      "1000/1000 [==============================] - 2s 2ms/step - loss: 9.3433\n",
      "Epoch 18/20\n",
      "1000/1000 [==============================] - 2s 2ms/step - loss: 9.3433\n",
      "Epoch 19/20\n",
      "1000/1000 [==============================] - 3s 3ms/step - loss: 9.3433\n",
      "Epoch 20/20\n",
      "1000/1000 [==============================] - 3s 3ms/step - loss: 9.3433\n"
     ]
    }
   ],
   "source": [
    "his = model.fit(x=train, y=np.array(y_train).reshape(-1,1), epochs=20)"
   ]
  },
  {
   "cell_type": "code",
   "execution_count": 21,
   "metadata": {},
   "outputs": [],
   "source": [
    "import matplotlib.pyplot as plt"
   ]
  },
  {
   "cell_type": "code",
   "execution_count": 49,
   "metadata": {},
   "outputs": [
    {
     "data": {
      "text/plain": [
       "[<matplotlib.lines.Line2D at 0x7f97e8b90470>]"
      ]
     },
     "execution_count": 49,
     "metadata": {},
     "output_type": "execute_result"
    },
    {
     "data": {
      "image/png": "[encoded data removed]",
      "text/plain": [
       "<Figure size 432x288 with 1 Axes>"
      ]
     },
     "metadata": {
      "needs_background": "light"
     },
     "output_type": "display_data"
    }
   ],
   "source": [
    "plt.plot(his.history['loss'])"
   ]
  },
  {
   "cell_type": "code",
   "execution_count": 25,
   "metadata": {},
   "outputs": [],
   "source": [
    "y_pred = model.predict(train)"
   ]
  },
  {
   "cell_type": "code",
   "execution_count": 36,
   "metadata": {},
   "outputs": [
    {
     "data": {
      "text/plain": [
       "0.30780924177798863"
      ]
     },
     "execution_count": 36,
     "metadata": {},
     "output_type": "execute_result"
    }
   ],
   "source": [
    "((y_train-y_pred)**2).mean()"
   ]
  },
  {
   "cell_type": "code",
   "execution_count": 32,
   "metadata": {},
   "outputs": [
    {
     "data": {
      "text/plain": [
       "array([797])"
      ]
     },
     "execution_count": 32,
     "metadata": {},
     "output_type": "execute_result"
    }
   ],
   "source": [
    "((y_train-y_pred)**2).argmax(axis=0)"
   ]
  },
  {
   "cell_type": "code",
   "execution_count": 33,
   "metadata": {},
   "outputs": [
    {
     "data": {
      "text/plain": [
       "array([1.75])"
      ]
     },
     "execution_count": 33,
     "metadata": {},
     "output_type": "execute_result"
    }
   ],
   "source": [
    "y_train[797]"
   ]
  },
  {
   "cell_type": "code",
   "execution_count": 34,
   "metadata": {},
   "outputs": [
    {
     "data": {
      "text/plain": [
       "array([3.651327], dtype=float32)"
      ]
     },
     "execution_count": 34,
     "metadata": {},
     "output_type": "execute_result"
    }
   ],
   "source": [
    "y_pred[797]"
   ]
  },
  {
   "cell_type": "code",
   "execution_count": null,
   "metadata": {},
   "outputs": [],
   "source": []
  }
 ],
 "metadata": {
  "kernelspec": {
   "display_name": "Python 3",
   "language": "python",
   "name": "python3"
  },
  "language_info": {
   "codemirror_mode": {
    "name": "ipython",
    "version": 3
   },
   "file_extension": ".py",
   "mimetype": "text/x-python",
   "name": "python",
   "nbconvert_exporter": "python",
   "pygments_lexer": "ipython3",
   "version": "3.6.8"
  }
 },
 "nbformat": 4,
 "nbformat_minor": 2
}
